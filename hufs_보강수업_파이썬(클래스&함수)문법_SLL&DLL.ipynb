{
 "cells": [
  {
   "cell_type": "markdown",
   "id": "ae0f03e4",
   "metadata": {},
   "source": [
    "### Python 함수(Function)\n",
    "\n",
    "- function -> Input ->함수(처리) -> Ouput\n",
    "- 입력 -> 처리 -> 출력\n",
    "\n",
    "- 반복되는 일을 한 번만 정의해서 계속 불러 쓰는 도구!\n",
    "\n",
    "---\n",
    "- def 함수의 정의  \n",
    "- a,b는 입력(매개변수)\n",
    "- return 결과(출력)"
   ]
  },
  {
   "cell_type": "code",
   "execution_count": 2,
   "id": "23ef61b7",
   "metadata": {},
   "outputs": [],
   "source": [
    "## 두 수를 더해서 2배 한다.\n",
    "def add_and_double(a,b):\n",
    "    s = a+b\n",
    "    return s*2"
   ]
  },
  {
   "cell_type": "code",
   "execution_count": 3,
   "id": "f3cc149d",
   "metadata": {},
   "outputs": [
    {
     "name": "stdout",
     "output_type": "stream",
     "text": [
      "34\n"
     ]
    }
   ],
   "source": [
    "print(add_and_double(10,7))"
   ]
  },
  {
   "cell_type": "code",
   "execution_count": 4,
   "id": "43904279",
   "metadata": {},
   "outputs": [
    {
     "name": "stdout",
     "output_type": "stream",
     "text": [
      "118\n"
     ]
    }
   ],
   "source": [
    "print(add_and_double(50,9))"
   ]
  },
  {
   "cell_type": "code",
   "execution_count": 7,
   "id": "b8534b95",
   "metadata": {},
   "outputs": [],
   "source": [
    "def hl(name='홍길동',uni ='hufs'):\n",
    "    if uni =='hufs' : return f\"안녕? 나는 {uni} 학생이야!\"\n",
    "    return f\"안녕,{name}!\""
   ]
  },
  {
   "cell_type": "code",
   "execution_count": 8,
   "id": "cbc4c0e1",
   "metadata": {},
   "outputs": [
    {
     "name": "stdout",
     "output_type": "stream",
     "text": [
      "안녕? 나는 hufs 학생이야!\n"
     ]
    }
   ],
   "source": [
    "print(hl())"
   ]
  },
  {
   "cell_type": "code",
   "execution_count": 9,
   "id": "9658aa60",
   "metadata": {},
   "outputs": [
    {
     "name": "stdout",
     "output_type": "stream",
     "text": [
      "안녕,이길동!\n"
     ]
    }
   ],
   "source": [
    "print(hl('이길동',uni='hufss'))"
   ]
  },
  {
   "cell_type": "code",
   "execution_count": 10,
   "id": "ae690c20",
   "metadata": {},
   "outputs": [],
   "source": [
    "#가변인자\n",
    "#몇 개가 들어올지 모른다! 전부 받는 것 \n",
    "\n",
    "def hl(*args, **uni): ## 1개는 튜플, 2개는 딕셔너리\n",
    "    return sum(args)\n"
   ]
  },
  {
   "cell_type": "code",
   "execution_count": 11,
   "id": "5c015cc7",
   "metadata": {},
   "outputs": [
    {
     "name": "stdout",
     "output_type": "stream",
     "text": [
      "55\n"
     ]
    }
   ],
   "source": [
    "print(hl(1,2,3,4,5,6,7,8,9,10))"
   ]
  },
  {
   "cell_type": "code",
   "execution_count": 12,
   "id": "5f784262",
   "metadata": {},
   "outputs": [],
   "source": [
    "## 내적 함수, 매개변수 인자값을 리스트 float로 받아서 사용 \n",
    "def hl(a : list[float], b :list[float]) -> float:\n",
    "    return sum(x*y for x,y in zip(a,b))"
   ]
  },
  {
   "cell_type": "code",
   "execution_count": 16,
   "id": "b994f7c2",
   "metadata": {},
   "outputs": [
    {
     "data": {
      "text/plain": [
       "24.96"
      ]
     },
     "execution_count": 16,
     "metadata": {},
     "output_type": "execute_result"
    }
   ],
   "source": [
    "hl([3.2],[7.8])"
   ]
  },
  {
   "cell_type": "markdown",
   "id": "d1acf781",
   "metadata": {},
   "source": [
    "### 클래스(Class) \n",
    "- 클래스는 설계도, 객체(인스턴스) 설계도로 찍어낸 물건 \n",
    "- 붕어빵 기계 -> 클래스 \n",
    "- 붕어빵 -> 객체, 인스턴스 (팥, 슈크림 등등)"
   ]
  },
  {
   "cell_type": "code",
   "execution_count": 18,
   "id": "55c6d43f",
   "metadata": {},
   "outputs": [],
   "source": [
    "## 붕어빵 기계 만들기 \n",
    "## __init__ 생성자 객체를 만들 때 자동으로 실행\n",
    "## self 이 객체 자신을 뜻함\n",
    "## method 함수 즉 객체가 할 수 있는 행동들!\n",
    "class Toaster:\n",
    "    def __init__(self, slots=2):\n",
    "        self.slots = slots\n",
    "        self.is_on = False\n",
    "    \n",
    "    def turn_on(self):\n",
    "        self.is_on = True\n",
    "    \n",
    "    def toast(self):\n",
    "        if not self.is_on:\n",
    "            return '아직 붕어빵 기계가 켜지지 않았습니다.'\n",
    "        return f\"{self.slots}붕어방 굽는중\"\n",
    "    "
   ]
  },
  {
   "cell_type": "code",
   "execution_count": 19,
   "id": "f3b69bad",
   "metadata": {},
   "outputs": [],
   "source": [
    "t=Toaster(5)"
   ]
  },
  {
   "cell_type": "code",
   "execution_count": 22,
   "id": "ca350333",
   "metadata": {},
   "outputs": [],
   "source": [
    "t.turn_on()"
   ]
  },
  {
   "cell_type": "code",
   "execution_count": 23,
   "id": "a13dedc7",
   "metadata": {},
   "outputs": [
    {
     "name": "stdout",
     "output_type": "stream",
     "text": [
      "5붕어방 굽는중\n"
     ]
    }
   ],
   "source": [
    "print(t.toast())"
   ]
  },
  {
   "cell_type": "markdown",
   "id": "eab239ef",
   "metadata": {},
   "source": [
    "\n",
    "## OOP (캡슐화/추상화/상속/다양성)\n",
    "- 캡슐화 : 데이터나 행동 한 덩어리로 묶고, 외부에는 필요한 메서드만 공개\n",
    "    - 변화에 대한 안정성, 내부 변경 영향에 최소화 \n",
    "    \n",
    "- 추상화 : 복잡한 내부는 숨기고, 단순하게 이름이 의미를 설명할 수 있게 진행하는 것\n",
    "\n",
    "- 상속 : 부모 바탕으로 -> 자식을 만들 수 있다.\n",
    "\n",
    "- 다형성 : 같은 질문을 해도, 다르게 답변이 나올 수 있다. (대상에 따라)"
   ]
  },
  {
   "cell_type": "code",
   "execution_count": 31,
   "id": "1f3ce40e",
   "metadata": {},
   "outputs": [],
   "source": [
    "## bankAccount \n",
    "\n",
    "class BankAccount:\n",
    "    def __init__(self, owner, balance = 0.0):\n",
    "        self.owner = owner\n",
    "        self._balance = float(balance) #내부용으로 볼 수 있는 \n",
    "        \n",
    "    @property\n",
    "    def balance(self):\n",
    "        return self._balance\n",
    "     \n",
    "    def deposit(self, amount):\n",
    "        if amount <=0 : raise ValueError('예금은 0원 초과 가능합니다.')\n",
    "        self._balance += amount\n",
    "    \n",
    "    def withdraw(self, amount):\n",
    "        if amount <=0 : raise ValueError('0원 초과만 인출 가능하다.')\n",
    "        if amount > self._balance : raise ValueError('잔액부족!')\n",
    "        self._balance -= amount\n"
   ]
  },
  {
   "cell_type": "code",
   "execution_count": 33,
   "id": "9e60f519",
   "metadata": {},
   "outputs": [],
   "source": [
    "acc=BankAccount('홍길동',5000)"
   ]
  },
  {
   "cell_type": "code",
   "execution_count": 34,
   "id": "6d96725e",
   "metadata": {},
   "outputs": [],
   "source": [
    "acc.deposit(5000)"
   ]
  },
  {
   "cell_type": "code",
   "execution_count": 35,
   "id": "9f22d95b",
   "metadata": {},
   "outputs": [],
   "source": [
    "acc.withdraw(3000)"
   ]
  },
  {
   "cell_type": "code",
   "execution_count": 36,
   "id": "cec87508",
   "metadata": {},
   "outputs": [
    {
     "name": "stdout",
     "output_type": "stream",
     "text": [
      "7000.0\n"
     ]
    }
   ],
   "source": [
    "print(acc.balance)"
   ]
  },
  {
   "cell_type": "markdown",
   "id": "451437ea",
   "metadata": {},
   "source": [
    "### SLL(Singly Linked List)\n",
    "\n",
    "- 노드 [item|next]"
   ]
  },
  {
   "cell_type": "code",
   "execution_count": 57,
   "id": "5e62e55f",
   "metadata": {},
   "outputs": [],
   "source": [
    "class SLLNode:\n",
    "    __slots__ = ('item', 'next')\n",
    "    def __init__(self, item):\n",
    "        self.item = item\n",
    "        self.next = None\n",
    "\n",
    "class SinglyLiknedList:\n",
    "    def __init__(self):\n",
    "        self.head : SLLNode | None = None\n",
    "        self.tail : SLLNode | None = None\n",
    "        self.size = 0\n",
    "\n",
    "    def is_empty(self) -> bool:\n",
    "        return self.head is None\n",
    "    \n",
    "    def push_front(self, item):\n",
    "        n = SLLNode(item)\n",
    "        n.next = self.head\n",
    "        self.head = n\n",
    "        if self.tail is None:\n",
    "            self.tail = n\n",
    "        self.size +=1\n",
    "        return n\n",
    "    \n",
    "    def push_back(self, item):\n",
    "        n = SLLNode(item)\n",
    "        if self.tail is None:\n",
    "            self.head = self.tail = n\n",
    "        else:\n",
    "            self.tail.next = n\n",
    "            self.tail= n\n",
    "        self.size +=1\n",
    "        return n \n",
    "    \n",
    "    def insert_after(self, p:SLLNode, item):\n",
    "        if p is None:\n",
    "            raise ValueError('p is None')\n",
    "        n = SLLNode(item)\n",
    "        n.next = p.next\n",
    "        p.next = n\n",
    "        if self.tail is p:\n",
    "            self.tail= n\n",
    "        self.size +=1\n",
    "        return n\n",
    "    \n",
    "    def erase_after(self, p:SLLNode):\n",
    "        if p is None or p.next is None:\n",
    "            raise ValueError('Nothing to erase')\n",
    "        x = p.next \n",
    "        p.next =x.next\n",
    "        if self.tail is x :\n",
    "            self.tail=p\n",
    "        x.next =None\n",
    "        self.size -=1\n",
    "        return x.item\n",
    "    \n",
    "    def to_list(self) ->list:\n",
    "        out, cur = [], self.head\n",
    "        while cur:\n",
    "            out.append(cur.item)\n",
    "            cur = cur.next\n",
    "        return out"
   ]
  },
  {
   "cell_type": "code",
   "execution_count": 58,
   "id": "26b6301a",
   "metadata": {},
   "outputs": [
    {
     "data": {
      "text/plain": [
       "'B'"
      ]
     },
     "execution_count": 58,
     "metadata": {},
     "output_type": "execute_result"
    }
   ],
   "source": [
    "sll = SinglyLiknedList()\n",
    "a =sll.push_back('A')\n",
    "b =sll.push_back('B')\n",
    "c =sll.push_back('C')\n",
    "z =sll.push_front('0')\n",
    "x =sll.insert_after(b,'X')\n",
    "sll.erase_after(a)"
   ]
  },
  {
   "cell_type": "code",
   "execution_count": 59,
   "id": "5d1f67df",
   "metadata": {},
   "outputs": [
    {
     "data": {
      "text/plain": [
       "['0', 'A', 'X', 'C']"
      ]
     },
     "execution_count": 59,
     "metadata": {},
     "output_type": "execute_result"
    }
   ],
   "source": [
    "sll.to_list()"
   ]
  },
  {
   "cell_type": "markdown",
   "id": "5f182391",
   "metadata": {},
   "source": [
    "### DLL(Doubly Linked List, 센티널 사용)\n",
    "- 노드모양 : [prev|item|next] 양방향 연결\n",
    "- 센티널 : Head/Tail 두면서 빈/맨앞/맨뒤 모두 중간처럼 로직이 단순해진다!"
   ]
  },
  {
   "cell_type": "code",
   "execution_count": 77,
   "id": "f4e9c180",
   "metadata": {},
   "outputs": [],
   "source": [
    "class DLLNode:\n",
    "    __slots__ = ('prev','item', 'next')\n",
    "    def __init__(self, item=None):\n",
    "        self.prev = None\n",
    "        self.item = item\n",
    "        self.next = None\n",
    "\n",
    "class DoublyLiknedList:\n",
    "    def __init__(self):\n",
    "        self.HEAD = DLLNode(\"<HEAD>\")\n",
    "        self.TAIL = DLLNode(\"<TAIL>\")\n",
    "        self.HEAD.next = self.TAIL\n",
    "        self.TAIL.prev = self.HEAD\n",
    "        self.size= 0\n",
    "    \n",
    "    def is_empty(self) -> bool:\n",
    "        return self.HEAD.next is self.TAIL\n",
    "    \n",
    "    #삽입\n",
    "    def insert_between(self, item, pred:DLLNode, succ:DLLNode) -> DLLNode:\n",
    "        n = DLLNode(item)\n",
    "        n.prev = pred\n",
    "        n.next = succ\n",
    "        pred.next = n\n",
    "        succ.prev = n\n",
    "        self.size +=1\n",
    "        return n\n",
    "    \n",
    "    #삭제\n",
    "    def unlink(self, x :DLLNode):\n",
    "        x_prev = x.prev\n",
    "        x_next = x.next\n",
    "        x_prev.next = x_next\n",
    "        x_next.prev = x_prev\n",
    "        x.prev = x.next =None\n",
    "        self.size -=1\n",
    "        \n",
    "        \n",
    "    def push_front(self,item):\n",
    "        return self.insert_between(item, self.HEAD, self.HEAD.next)\n",
    "    def push_back(self,item):\n",
    "        return self.insert_between(item, self.TAIL.prev, self.TAIL)\n",
    "    \n",
    "    def pop_front(self):\n",
    "        if self.is_empty():raise IndexError('empty')\n",
    "        x = self.HEAD.next\n",
    "        self.unlink(x)\n",
    "        return x.item\n",
    "    def pop_back(self):\n",
    "        if self.is_empty():raise IndexError('empty')    \n",
    "        x = self.TAIL.prev\n",
    "        self.unlink(x)\n",
    "        return x.item\n",
    "    \n",
    "    def insert_after(self, p:DLLNode, item):\n",
    "        return self.insert_between(item, p, p.next)\n",
    "    def insert_before(self, p:DLLNode, item):\n",
    "        return self.insert_between(item, p.prev, p)\n",
    "    def erase(self, x:DLLNode):\n",
    "        self.unlink(x)\n",
    "    \n",
    "    def to_list(self)->list:\n",
    "        out, cur = [], self.HEAD.next\n",
    "        while cur is not self.TAIL:\n",
    "            out.append(cur.item)\n",
    "            cur = cur.next\n",
    "        return out"
   ]
  },
  {
   "cell_type": "code",
   "execution_count": 80,
   "id": "3bcd36c5",
   "metadata": {},
   "outputs": [
    {
     "name": "stdout",
     "output_type": "stream",
     "text": [
      "['Z', 'A', 'B', 'X']\n"
     ]
    }
   ],
   "source": [
    "dll = DoublyLiknedList()\n",
    "\n",
    "a = dll.push_back('A')\n",
    "b = dll.push_back('B')\n",
    "x = dll.insert_after(b,'X')\n",
    "#dll.erase(b)\n",
    "dll.push_front('Z')\n",
    "print(dll.to_list())\n"
   ]
  }
 ],
 "metadata": {
  "kernelspec": {
   "display_name": "Python 3 (ipykernel)",
   "language": "python",
   "name": "python3"
  },
  "language_info": {
   "codemirror_mode": {
    "name": "ipython",
    "version": 3
   },
   "file_extension": ".py",
   "mimetype": "text/x-python",
   "name": "python",
   "nbconvert_exporter": "python",
   "pygments_lexer": "ipython3",
   "version": "3.11.5"
  }
 },
 "nbformat": 4,
 "nbformat_minor": 5
}
