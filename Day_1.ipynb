{
 "cells": [
  {
   "cell_type": "code",
   "execution_count": null,
   "id": "89725b11",
   "metadata": {},
   "outputs": [],
   "source": [
    "class Stack:\n",
    "    def __init__(self):\n",
    "        self.items = []\n",
    "    \n",
    "    def push(self, val): \n",
    "        self.items.append(val) # O(1) 시간복잡도\n",
    "    \n",
    "    def pop(self):\n",
    "        try:\n",
    "            return self.items.pop()  # O(1) 시간복잡도\n",
    "        except IndexError:\n",
    "            raise IndexError(\"Stack is empty - cannot pop from an empty stack\")\n",
    "    \n",
    "    def top(self):\n",
    "        try:\n",
    "            return self.items[-1] # O(1) 시간복잡도\n",
    "        except IndexError:\n",
    "            raise IndexError(\"Stack is empty - cannot retrieve the top element from an empty stack\")\n",
    "    \n",
    "    def __len__(self): # len 호출시  스택의 아이템수 반환 \n",
    "        return len(self.items) # O(1) 시간복잡도 self.items 이미 n 개수 알 고 있음 파이썬의 리스트 이니까\n",
    "        "
   ]
  },
  {
   "cell_type": "code",
   "execution_count": null,
   "id": "bf2df49d",
   "metadata": {},
   "outputs": [
    {
     "name": "stdout",
     "output_type": "stream",
     "text": [
      "2\n",
      "2\n",
      "1\n",
      "False\n"
     ]
    }
   ],
   "source": [
    "class Stack:\n",
    "\tdef __init__(self):\n",
    "\t\tself.items = []\t# 데이터 저장을 위한 리스트 준비\n",
    "\tdef push(self, val):\n",
    "\t\tself.items.append(val)\n",
    "\tdef pop(self):\n",
    "\t\ttry:\t# pop할 아이템이 없으면\n",
    "\t\t\treturn self.items.pop()\n",
    "\t\texcept IndexError:\t# indexError 발생\n",
    "\t\t\tprint(\"Stack is empty\")\n",
    "\tdef top(self):\n",
    "\t\ttry:\n",
    "\t\t\treturn self.items[-1]\n",
    "\t\texcept IndexError:\n",
    "\t\t\tprint(\"Stack is empty\")\n",
    "\tdef __len__(self):\t# len()로 호출하면 stack의 item 수 반환\n",
    " \t\treturn len(self.items)\n",
    "\tdef isEmpty(self):\n",
    "\t\treturn self.__len__() == 0 # item수가 0이면 True, 아니면 False\n",
    "\n",
    "# for test\n",
    "S = Stack()\n",
    "S.push(10)\n",
    "S.push(2)\n",
    "print(S.top())\n",
    "print(S.pop())\n",
    "print(len(S))\n",
    "print(S.isEmpty())"
   ]
  },
  {
   "cell_type": "code",
   "execution_count": null,
   "id": "0ac5811a",
   "metadata": {},
   "outputs": [],
   "source": [
    "S = Stack()\n",
    "for p in parSeq:\n",
    "    if p == '(' : S.push(p)\n",
    "    elif p == ')': S.pop() # 오른쪽 괄호가 더 많음\n",
    "    else : print(\"괄호가 아닙니다 돌아가세요\")\n",
    "if len(s)>0:\n",
    "    return False # 왼쪽이 더 많음\n",
    "else:\n",
    "    return True \n"
   ]
  },
  {
   "cell_type": "code",
   "execution_count": 2,
   "id": "aa5170dc",
   "metadata": {},
   "outputs": [
    {
     "name": "stdout",
     "output_type": "stream",
     "text": [
      "False\n"
     ]
    }
   ],
   "source": [
    "# Stack 클래스를 try-except 구문을 사용하도록 수정\n",
    "class Stack:\n",
    "\tdef __init__(self):\n",
    "\t\tself.items = []\t# 데이터 저장을 위한 리스트 준비\n",
    "\tdef push(self, val):\n",
    "\t\tself.items.append(val)\n",
    "\tdef pop(self):\n",
    "\t\ttry:\t# pop할 아이템이 없으면\n",
    "\t\t\treturn self.items.pop()\n",
    "\t\texcept IndexError:\t# indexError 발생\n",
    "\t\t\tprint(\"Stack is empty\")\n",
    "\tdef top(self):\n",
    "\t\ttry:\n",
    "\t\t\treturn self.items[-1]\n",
    "\t\texcept IndexError:\n",
    "\t\t\tprint(\"Stack is empty\")\n",
    "\tdef __len__(self):\t# len()로 호출하면 stack의 item 수 반환\n",
    " \t\treturn len(self.items)\n",
    "\t\n",
    "\tdef isEmpty(self):\n",
    "\t\treturn self.__len__() == 0 # item수가 0이면 True, 아니면 False\n",
    "\n",
    "def parChecker(parSeq):\n",
    "    # 1. 변수 이름을 소문자 s로 통일했습니다.\n",
    "    s = Stack()\n",
    "    for p in parSeq:\n",
    "        if p == '(' :\n",
    "            s.push(p)\n",
    "        elif p == ')':\n",
    "            # 2. 닫는 괄호를 만났을 때, 스택이 비어있는지 먼저 확인합니다.\n",
    "            if s.isEmpty():\n",
    "                # 짝을 이룰 여는 괄호가 없으므로 즉시 False 반환\n",
    "                return False\n",
    "            else:\n",
    "                s.pop()\n",
    "        # 괄호가 아닌 문자는 문제 조건에 없으므로 else문은 제거했습니다.\n",
    "    \n",
    "    # 3. 모든 문자를 확인한 후, 스택이 비어있는지로 최종 판단합니다.\n",
    "    #    (이 부분은 if/else를 더 간결하게 표현한 것입니다.)\n",
    "    return s.isEmpty()\n",
    "\t\n",
    "# 입력 받기\n",
    "input_string = input()\n",
    "\n",
    "# 함수 호출 및 결과 출력\n",
    "print(parChecker(input_string))\n",
    "\n"
   ]
  },
  {
   "cell_type": "code",
   "execution_count": null,
   "id": "fd239c58",
   "metadata": {},
   "outputs": [],
   "source": []
  }
 ],
 "metadata": {
  "kernelspec": {
   "display_name": "Python 3",
   "language": "python",
   "name": "python3"
  },
  "language_info": {
   "codemirror_mode": {
    "name": "ipython",
    "version": 3
   },
   "file_extension": ".py",
   "mimetype": "text/x-python",
   "name": "python",
   "nbconvert_exporter": "python",
   "pygments_lexer": "ipython3",
   "version": "3.11.0"
  }
 },
 "nbformat": 4,
 "nbformat_minor": 5
}
