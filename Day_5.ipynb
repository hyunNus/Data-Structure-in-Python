{
 "cells": [
  {
   "cell_type": "markdown",
   "id": "b596f50b",
   "metadata": {},
   "source": [
    "## deque(stack + queue) ##\n",
    "- 오른쪽으로 push :  append\n",
    "- 왼쪽으로 push : appendleft\n",
    "- 오른쪽으로 pop :  pop \n",
    "- 왼쪽으로 pop : popleft   \n",
    "\n",
    "**from collections import deque**"
   ]
  },
  {
   "cell_type": "code",
   "execution_count": null,
   "id": "966943db",
   "metadata": {},
   "outputs": [],
   "source": [
    "from collections import deque\n",
    "\n",
    "\n",
    "def check_palindrome(s):\n",
    "    dq = deque(s)  # 왜 s를 넣는거지\n",
    "    palindrome = True\n",
    "    while len(dq) > 1:\n",
    "        if dq.popleft != dq.popleft():\n",
    "            palindrome = False\n",
    "    return palindrome"
   ]
  }
 ],
 "metadata": {
  "language_info": {
   "name": "python"
  }
 },
 "nbformat": 4,
 "nbformat_minor": 5
}
