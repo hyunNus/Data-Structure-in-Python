{
 "cells": [
  {
   "cell_type": "markdown",
   "id": "b596f50b",
   "metadata": {},
   "source": [
    "## deque(stack + queue) ##\n",
    "- 오른쪽으로 push :  append\n",
    "- 왼쪽으로 push : appendleft\n",
    "- 오른쪽으로 pop :  pop \n",
    "- 왼쪽으로 pop : popleft   \n",
    "\n",
    "**from collections import deque**"
   ]
  },
  {
   "cell_type": "code",
   "execution_count": null,
   "id": "966943db",
   "metadata": {},
   "outputs": [
    {
     "data": {
      "text/plain": [
       "True"
      ]
     },
     "execution_count": 4,
     "metadata": {},
     "output_type": "execute_result"
    }
   ],
   "source": [
    "from collections import deque\n",
    "\n",
    "def check_palindrome(s):\n",
    "    dq = deque(s)  # 왜 s를 넣는거지\n",
    "    palindrome = True\n",
    "    while len(dq) > 1: # 홀 수 일때 False 반환 방지\n",
    "        if dq.popleft() != dq.pop():\n",
    "            palindrome = False\n",
    "    return palindrome\n",
    "\n",
    "s = input(\"문자열을 입력하세요: \")\n",
    "check_palindrome(s)"
   ]
  }
 ],
 "metadata": {
  "kernelspec": {
   "display_name": "Python 3",
   "language": "python",
   "name": "python3"
  },
  "language_info": {
   "codemirror_mode": {
    "name": "ipython",
    "version": 3
   },
   "file_extension": ".py",
   "mimetype": "text/x-python",
   "name": "python",
   "nbconvert_exporter": "python",
   "pygments_lexer": "ipython3",
   "version": "3.11.0"
  }
 },
 "nbformat": 4,
 "nbformat_minor": 5
}
