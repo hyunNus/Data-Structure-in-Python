{
 "cells": [
  {
   "cell_type": "markdown",
   "id": "c0f041f3",
   "metadata": {},
   "source": [
    "## 2일차 공부 기록 ##"
   ]
  },
  {
   "cell_type": "code",
   "execution_count": null,
   "id": "dc76772e",
   "metadata": {},
   "outputs": [],
   "source": [
    "for i in range(n):\n",
    "    j = i - 1 # 인덱스 하나 전  j->i\n",
    "    while j >= 0:\n",
    "        if A[j] < A[i]:\n",
    "            break\n",
    "        j -= 1\n",
    "    B[i] = A[j] if j >= 0 else None"
   ]
  },
  {
   "cell_type": "code",
   "execution_count": 1,
   "id": "8bdcf240",
   "metadata": {},
   "outputs": [
    {
     "name": "stdout",
     "output_type": "stream",
     "text": [
      "[8, 4, 7, 5, 3, 2, 2]\n"
     ]
    }
   ],
   "source": [
    "def f4(A, n):\n",
    "    i = 0\n",
    "    j = n - 1\n",
    "    while i < j:\n",
    "        if A[i] < A[j]:\n",
    "            A[i], A[j] = A[j], A[i]\n",
    "        i += 1\n",
    "        j -= 1\n",
    "    return A\n",
    "A = [8,2,7,5,3,4,2]\n",
    "print(f4(A, len(A)))"
   ]
  },
  {
   "cell_type": "markdown",
   "id": "6ed18ea9",
   "metadata": {},
   "source": [
    "# 하나하나 코드 분석하는 것은 효율적이지 않음. 일단 큰 틀에서 회독 후 기출 문제 중심으로 디테일 신경쓰기 "
   ]
  },
  {
   "cell_type": "code",
   "execution_count": null,
   "id": "997dee99",
   "metadata": {},
   "outputs": [],
   "source": []
  }
 ],
 "metadata": {
  "kernelspec": {
   "display_name": "Python 3",
   "language": "python",
   "name": "python3"
  },
  "language_info": {
   "codemirror_mode": {
    "name": "ipython",
    "version": 3
   },
   "file_extension": ".py",
   "mimetype": "text/x-python",
   "name": "python",
   "nbconvert_exporter": "python",
   "pygments_lexer": "ipython3",
   "version": "3.11.0"
  }
 },
 "nbformat": 4,
 "nbformat_minor": 5
}
